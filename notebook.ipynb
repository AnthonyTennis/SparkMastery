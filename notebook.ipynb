{
 "cells": [
  {
   "cell_type": "markdown",
   "metadata": {
    "slideshow": {
     "slide_type": "slide"
    }
   },
   "source": [
    "# Spark Mastery\n",
    "\n"
   ]
  },
  {
   "cell_type": "code",
   "execution_count": 12,
   "metadata": {
    "slideshow": {
     "slide_type": "skip"
    }
   },
   "outputs": [],
   "source": [
    "%load_ext autoreload\n",
    "%autoreload 2"
   ]
  },
  {
   "cell_type": "code",
   "execution_count": 13,
   "metadata": {
    "slideshow": {
     "slide_type": "skip"
    }
   },
   "outputs": [],
   "source": [
    "# make sure your run the cell above before running this\n",
    "import helper"
   ]
  },
  {
   "cell_type": "code",
   "execution_count": 14,
   "metadata": {
    "slideshow": {
     "slide_type": "skip"
    }
   },
   "outputs": [],
   "source": [
    "from pyspark.sql import SparkSession\n",
    "\n",
    "spark = SparkSession \\\n",
    "    .builder \\\n",
    "    .appName(\"Python Spark\") \\\n",
    "    .getOrCreate()\n",
    "\n",
    "sc = spark.sparkContext"
   ]
  },
  {
   "cell_type": "code",
   "execution_count": 15,
   "metadata": {},
   "outputs": [
    {
     "name": "stdout",
     "output_type": "stream",
     "text": [
      "CSV file created with 500,000 lines.\n"
     ]
    }
   ],
   "source": [
    "# create some test data\n",
    "import csv\n",
    "import random\n",
    "\n",
    "# Define the number of lines and the headers\n",
    "num_lines = 500000\n",
    "headers = ['jobId', 'status']\n",
    "\n",
    "# Status options for the 'status' field\n",
    "status_options = ['Pending', 'In Progress', 'Completed', 'Failed']\n",
    "\n",
    "# Creating and writing to the CSV file\n",
    "with open('jobs_data.csv', 'w', newline='') as file:\n",
    "    writer = csv.writer(file)\n",
    "    \n",
    "    # Writing the header\n",
    "    writer.writerow(headers)\n",
    "    \n",
    "    # Writing the data rows\n",
    "    for i in range(1, num_lines + 1):\n",
    "        # Generate a random status\n",
    "        status = random.choice(status_options)\n",
    "        # Write the row\n",
    "        writer.writerow([f\"Job{i}\", status])\n",
    "\n",
    "# Inform the user that the file has been created\n",
    "print('CSV file created with 500,000 lines.')\n"
   ]
  },
  {
   "cell_type": "code",
   "execution_count": 16,
   "metadata": {},
   "outputs": [],
   "source": [
    "# Spark Approach"
   ]
  },
  {
   "cell_type": "code",
   "execution_count": 17,
   "metadata": {},
   "outputs": [
    {
     "name": "stdout",
     "output_type": "stream",
     "text": [
      "<bound method DataFrame.head of DataFrame[jobId: string, status: string]>\n",
      "['jobId', 'status']\n",
      "+-----+-----------+\n",
      "|jobId|     status|\n",
      "+-----+-----------+\n",
      "| Job1|    Pending|\n",
      "| Job2|    Pending|\n",
      "| Job3|     Failed|\n",
      "| Job4|  Completed|\n",
      "| Job5|     Failed|\n",
      "| Job6|     Failed|\n",
      "| Job7|In Progress|\n",
      "| Job8|    Pending|\n",
      "| Job9|In Progress|\n",
      "|Job10|In Progress|\n",
      "|Job11|     Failed|\n",
      "|Job12|  Completed|\n",
      "|Job13|    Pending|\n",
      "|Job14|    Pending|\n",
      "|Job15|     Failed|\n",
      "|Job16|  Completed|\n",
      "|Job17|In Progress|\n",
      "|Job18|In Progress|\n",
      "|Job19|  Completed|\n",
      "|Job20|In Progress|\n",
      "+-----+-----------+\n",
      "only showing top 20 rows\n",
      "\n"
     ]
    }
   ],
   "source": [
    "df = spark.read.csv(\"jobs_data.csv\", header=True, inferSchema=True)\n",
    "print(df.head)\n",
    "print(df.columns)\n",
    "df.show()"
   ]
  },
  {
   "cell_type": "code",
   "execution_count": 19,
   "metadata": {},
   "outputs": [
    {
     "name": "stderr",
     "output_type": "stream",
     "text": [
      "                                                                                \r"
     ]
    },
    {
     "name": "stdout",
     "output_type": "stream",
     "text": [
      "Status: Completed, Count: 125050\n",
      "Status: In Progress, Count: 125412\n",
      "Status: Failed, Count: 124797\n",
      "Status: Pending, Count: 124741\n"
     ]
    }
   ],
   "source": [
    "# retrieve total statuses\n",
    "helper.get_status_counts(df)"
   ]
  },
  {
   "cell_type": "code",
   "execution_count": null,
   "metadata": {},
   "outputs": [],
   "source": []
  },
  {
   "cell_type": "code",
   "execution_count": null,
   "metadata": {},
   "outputs": [],
   "source": []
  }
 ],
 "metadata": {
  "celltoolbar": "Slideshow",
  "jupytext": {
   "encoding": "# -*- coding: utf-8 -*-",
   "formats": "ipynb,md,py"
  },
  "kernelspec": {
   "display_name": "Python 3 (ipykernel)",
   "language": "python",
   "name": "python3"
  },
  "language_info": {
   "codemirror_mode": {
    "name": "ipython",
    "version": 3
   },
   "file_extension": ".py",
   "mimetype": "text/x-python",
   "name": "python",
   "nbconvert_exporter": "python",
   "pygments_lexer": "ipython3",
   "version": "3.10.12"
  }
 },
 "nbformat": 4,
 "nbformat_minor": 4
}
